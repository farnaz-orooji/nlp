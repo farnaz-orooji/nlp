{
  "nbformat": 4,
  "nbformat_minor": 0,
  "metadata": {
    "kernelspec": {
      "display_name": "Python 3",
      "language": "python",
      "name": "python3"
    },
    "language_info": {
      "codemirror_mode": {
        "name": "ipython",
        "version": 3
      },
      "file_extension": ".py",
      "mimetype": "text/x-python",
      "name": "python",
      "nbconvert_exporter": "python",
      "pygments_lexer": "ipython3",
      "version": "3.7.3"
    },
    "colab": {
      "name": "NER_ML_classification_using_TFIDF.ipynb",
      "provenance": [],
      "include_colab_link": true
    },
    "accelerator": "GPU"
  },
  "cells": [
    {
      "cell_type": "markdown",
      "metadata": {
        "id": "view-in-github",
        "colab_type": "text"
      },
      "source": [
        "<a href=\"https://colab.research.google.com/github/farnaz-orooji/nlp/blob/main/NER_ML_classification_using_TFIDF.ipynb\" target=\"_parent\"><img src=\"https://colab.research.google.com/assets/colab-badge.svg\" alt=\"Open In Colab\"/></a>"
      ]
    },
    {
      "cell_type": "code",
      "metadata": {
        "colab": {
          "base_uri": "https://localhost:8080/"
        },
        "id": "eIxEbNIdh9aN",
        "outputId": "13db6ead-1f92-4f85-edb6-9038663eb508"
      },
      "source": [
        "from google.colab import drive\n",
        "drive.mount('/content/drive')"
      ],
      "execution_count": 3,
      "outputs": [
        {
          "output_type": "stream",
          "text": [
            "Mounted at /content/drive\n"
          ],
          "name": "stdout"
        }
      ]
    },
    {
      "cell_type": "code",
      "metadata": {
        "id": "ZT7tsQUie_t4"
      },
      "source": [
        "import pandas as pd\n",
        "import numpy as np\n",
        "from sklearn.feature_extraction import DictVectorizer\n",
        "from sklearn.feature_extraction.text import HashingVectorizer\n",
        "from sklearn.linear_model import Perceptron\n",
        "from sklearn.model_selection import train_test_split\n",
        "from sklearn.linear_model import SGDClassifier\n",
        "from sklearn.feature_extraction.text import TfidfVectorizer\n",
        "from sklearn.linear_model import PassiveAggressiveClassifier\n",
        "from sklearn.naive_bayes import MultinomialNB\n",
        "from sklearn.metrics import classification_report"
      ],
      "execution_count": 4,
      "outputs": []
    },
    {
      "cell_type": "code",
      "metadata": {
        "id": "ofMdzot6e_t6"
      },
      "source": [
        "import warnings\n",
        "warnings.filterwarnings('ignore')"
      ],
      "execution_count": 5,
      "outputs": []
    },
    {
      "cell_type": "code",
      "metadata": {
        "colab": {
          "base_uri": "https://localhost:8080/"
        },
        "id": "V9EJIqwte_t6",
        "outputId": "b456115a-3915-4e69-f179-863d17b83524"
      },
      "source": [
        "%%time\n",
        "ds = pd.read_csv(\"//content/drive/MyDrive/nlp_dataset/ner_dataset.csv\", encoding = 'ISO-8859-1')"
      ],
      "execution_count": 6,
      "outputs": [
        {
          "output_type": "stream",
          "text": [
            "CPU times: user 377 ms, sys: 83.7 ms, total: 460 ms\n",
            "Wall time: 1.44 s\n"
          ],
          "name": "stdout"
        }
      ]
    },
    {
      "cell_type": "code",
      "metadata": {
        "id": "eRW0ZaShe_t8",
        "colab": {
          "base_uri": "https://localhost:8080/",
          "height": 206
        },
        "outputId": "95d7d6cd-9461-4078-8ea0-a985f76cf99a"
      },
      "source": [
        "# Return a random sample of items from an axis of object.\n",
        "df = ds.sample(frac=1).reset_index(drop=True)\n",
        "df.head()"
      ],
      "execution_count": 7,
      "outputs": [
        {
          "output_type": "execute_result",
          "data": {
            "text/html": [
              "<div>\n",
              "<style scoped>\n",
              "    .dataframe tbody tr th:only-of-type {\n",
              "        vertical-align: middle;\n",
              "    }\n",
              "\n",
              "    .dataframe tbody tr th {\n",
              "        vertical-align: top;\n",
              "    }\n",
              "\n",
              "    .dataframe thead th {\n",
              "        text-align: right;\n",
              "    }\n",
              "</style>\n",
              "<table border=\"1\" class=\"dataframe\">\n",
              "  <thead>\n",
              "    <tr style=\"text-align: right;\">\n",
              "      <th></th>\n",
              "      <th>Sentence #</th>\n",
              "      <th>Word</th>\n",
              "      <th>POS</th>\n",
              "      <th>Tag</th>\n",
              "    </tr>\n",
              "  </thead>\n",
              "  <tbody>\n",
              "    <tr>\n",
              "      <th>0</th>\n",
              "      <td>NaN</td>\n",
              "      <td>stemming</td>\n",
              "      <td>VBG</td>\n",
              "      <td>O</td>\n",
              "    </tr>\n",
              "    <tr>\n",
              "      <th>1</th>\n",
              "      <td>NaN</td>\n",
              "      <td>,</td>\n",
              "      <td>,</td>\n",
              "      <td>O</td>\n",
              "    </tr>\n",
              "    <tr>\n",
              "      <th>2</th>\n",
              "      <td>NaN</td>\n",
              "      <td>expected</td>\n",
              "      <td>VBN</td>\n",
              "      <td>O</td>\n",
              "    </tr>\n",
              "    <tr>\n",
              "      <th>3</th>\n",
              "      <td>NaN</td>\n",
              "      <td>in</td>\n",
              "      <td>IN</td>\n",
              "      <td>O</td>\n",
              "    </tr>\n",
              "    <tr>\n",
              "      <th>4</th>\n",
              "      <td>NaN</td>\n",
              "      <td>tourists</td>\n",
              "      <td>NNS</td>\n",
              "      <td>O</td>\n",
              "    </tr>\n",
              "  </tbody>\n",
              "</table>\n",
              "</div>"
            ],
            "text/plain": [
              "  Sentence #      Word  POS Tag\n",
              "0        NaN  stemming  VBG   O\n",
              "1        NaN         ,    ,   O\n",
              "2        NaN  expected  VBN   O\n",
              "3        NaN        in   IN   O\n",
              "4        NaN  tourists  NNS   O"
            ]
          },
          "metadata": {},
          "execution_count": 7
        }
      ]
    },
    {
      "cell_type": "code",
      "metadata": {
        "id": "u66cZT4-e_t9"
      },
      "source": [
        "ds = ds.fillna(method='ffill')\n",
        "ds['category_id'] = ds[\"Tag\"].factorize()[0]"
      ],
      "execution_count": 8,
      "outputs": []
    },
    {
      "cell_type": "code",
      "metadata": {
        "id": "pPdPe5nve_t-",
        "colab": {
          "base_uri": "https://localhost:8080/",
          "height": 206
        },
        "outputId": "5772182c-6365-4d46-a862-ed6b5a5a66cb"
      },
      "source": [
        "ds.isnull().sum()\n",
        "ds.head()"
      ],
      "execution_count": 9,
      "outputs": [
        {
          "output_type": "execute_result",
          "data": {
            "text/html": [
              "<div>\n",
              "<style scoped>\n",
              "    .dataframe tbody tr th:only-of-type {\n",
              "        vertical-align: middle;\n",
              "    }\n",
              "\n",
              "    .dataframe tbody tr th {\n",
              "        vertical-align: top;\n",
              "    }\n",
              "\n",
              "    .dataframe thead th {\n",
              "        text-align: right;\n",
              "    }\n",
              "</style>\n",
              "<table border=\"1\" class=\"dataframe\">\n",
              "  <thead>\n",
              "    <tr style=\"text-align: right;\">\n",
              "      <th></th>\n",
              "      <th>Sentence #</th>\n",
              "      <th>Word</th>\n",
              "      <th>POS</th>\n",
              "      <th>Tag</th>\n",
              "      <th>category_id</th>\n",
              "    </tr>\n",
              "  </thead>\n",
              "  <tbody>\n",
              "    <tr>\n",
              "      <th>0</th>\n",
              "      <td>Sentence: 1</td>\n",
              "      <td>Thousands</td>\n",
              "      <td>NNS</td>\n",
              "      <td>O</td>\n",
              "      <td>0</td>\n",
              "    </tr>\n",
              "    <tr>\n",
              "      <th>1</th>\n",
              "      <td>Sentence: 1</td>\n",
              "      <td>of</td>\n",
              "      <td>IN</td>\n",
              "      <td>O</td>\n",
              "      <td>0</td>\n",
              "    </tr>\n",
              "    <tr>\n",
              "      <th>2</th>\n",
              "      <td>Sentence: 1</td>\n",
              "      <td>demonstrators</td>\n",
              "      <td>NNS</td>\n",
              "      <td>O</td>\n",
              "      <td>0</td>\n",
              "    </tr>\n",
              "    <tr>\n",
              "      <th>3</th>\n",
              "      <td>Sentence: 1</td>\n",
              "      <td>have</td>\n",
              "      <td>VBP</td>\n",
              "      <td>O</td>\n",
              "      <td>0</td>\n",
              "    </tr>\n",
              "    <tr>\n",
              "      <th>4</th>\n",
              "      <td>Sentence: 1</td>\n",
              "      <td>marched</td>\n",
              "      <td>VBN</td>\n",
              "      <td>O</td>\n",
              "      <td>0</td>\n",
              "    </tr>\n",
              "  </tbody>\n",
              "</table>\n",
              "</div>"
            ],
            "text/plain": [
              "    Sentence #           Word  POS Tag  category_id\n",
              "0  Sentence: 1      Thousands  NNS   O            0\n",
              "1  Sentence: 1             of   IN   O            0\n",
              "2  Sentence: 1  demonstrators  NNS   O            0\n",
              "3  Sentence: 1           have  VBP   O            0\n",
              "4  Sentence: 1        marched  VBN   O            0"
            ]
          },
          "metadata": {},
          "execution_count": 9
        }
      ]
    },
    {
      "cell_type": "code",
      "metadata": {
        "id": "Ln6JC2QIe_t-"
      },
      "source": [
        "df['new']= df['Word'].map(lambda s : s.lower())"
      ],
      "execution_count": 10,
      "outputs": []
    },
    {
      "cell_type": "code",
      "metadata": {
        "id": "em4S6608e_t_"
      },
      "source": [
        "ds['category_id'] = ds['Tag'].factorize()[0]\n",
        "\n",
        "from io import StringIO\n",
        "# category_id_df = ds[['Tag', 'category_id']].drop_duplicates().sort_values('category_id')\n",
        "category_id_df = ds[['Tag', 'category_id']].sort_values('category_id')\n",
        "category_to_id = dict(category_id_df.values)\n",
        "id_to_category = dict(category_id_df[['category_id', 'Tag']].values)\n"
      ],
      "execution_count": 11,
      "outputs": []
    },
    {
      "cell_type": "code",
      "metadata": {
        "id": "bRfrm576e_uA"
      },
      "source": [
        "ss = ds.groupby('category_id').Word.count()"
      ],
      "execution_count": 12,
      "outputs": []
    },
    {
      "cell_type": "markdown",
      "metadata": {
        "id": "joksoC36e_uA"
      },
      "source": [
        "### split dataset into train, test\n",
        "\n",
        "\n"
      ]
    },
    {
      "cell_type": "code",
      "metadata": {
        "id": "uPOpyIB2e_uB"
      },
      "source": [
        "from collections import Counter\n",
        "X = ds[\"Word\"]\n",
        "y = ds.category_id\n",
        "\n",
        "X_train,X_test,y_train,y_test=train_test_split(X,y,test_size=0.3, stratify=y)\n",
        "\n",
        "tfidf = TfidfVectorizer(stop_words='english')\n",
        "X_train_tf = tfidf.fit_transform(X_train)\n",
        "X_test_tf = tfidf.transform(X_test)"
      ],
      "execution_count": 13,
      "outputs": []
    },
    {
      "cell_type": "markdown",
      "metadata": {
        "id": "jGS93pdAtdt4"
      },
      "source": [
        "## dealing with imbalanced dataset"
      ]
    },
    {
      "cell_type": "code",
      "metadata": {
        "colab": {
          "base_uri": "https://localhost:8080/"
        },
        "id": "5R16Z4dTtb-V",
        "outputId": "6c8cc95e-5346-4eb1-840d-a835def6171c"
      },
      "source": [
        "from imblearn.over_sampling import SMOTE\n",
        "from imblearn.combine import SMOTEENN, SMOTETomek\n",
        "from imblearn.over_sampling import RandomOverSampler\n",
        "from imblearn.under_sampling import RandomUnderSampler\n",
        "from imblearn.over_sampling import ADASYN\n",
        "\n",
        "under_sampler = RandomUnderSampler(random_state=42)\n",
        "over_sampler = RandomOverSampler(random_state=42)\n",
        "sm = SMOTE(random_state=42)\n",
        "sm_enn = SMOTEENN(random_state=42)\n",
        "sm_tomek = SMOTETomek(random_state=42)\n",
        "\n",
        "X_train_new, y_train_new = over_sampler.fit_resample(X_train_tf, y_train)\n",
        "# features, labels = sm.fit_resample(X_train_tf, y_train)\n",
        "# features, labels = sm_enn.fit_resample(X_train_tf, y_train)\n",
        "# features, labels = sm_tomek.fit_resample(X_train_tf, y_train)\n",
        "\n",
        "print(\"The number of classes before fit {}\".format(Counter(y_train)))\n",
        "print(\"------\")\n",
        "print(\"The number of classes after fit {}\".format(Counter(y_train_new)))"
      ],
      "execution_count": 15,
      "outputs": [
        {
          "output_type": "stream",
          "text": [
            "The number of classes before fit Counter({0: 621535, 1: 26351, 7: 14233, 5: 14100, 10: 12076, 3: 11893, 6: 11749, 2: 11109, 4: 5190, 12: 4569, 8: 281, 14: 215, 9: 208, 15: 177, 13: 141, 11: 139, 16: 36})\n",
            "------\n",
            "The number of classes after fit Counter({0: 621535, 1: 621535, 7: 621535, 4: 621535, 2: 621535, 6: 621535, 5: 621535, 10: 621535, 3: 621535, 12: 621535, 14: 621535, 9: 621535, 8: 621535, 13: 621535, 15: 621535, 16: 621535, 11: 621535})\n"
          ],
          "name": "stdout"
        }
      ]
    },
    {
      "cell_type": "markdown",
      "metadata": {
        "id": "wx4GVA1Hst-R"
      },
      "source": [
        "## LogisticRegression"
      ]
    },
    {
      "cell_type": "code",
      "metadata": {
        "id": "Vh49QwoQe_uC",
        "colab": {
          "base_uri": "https://localhost:8080/"
        },
        "outputId": "c3674db0-ca5c-45f5-9d85-41383552f494"
      },
      "source": [
        "from sklearn.linear_model import LogisticRegression\n",
        "from sklearn.ensemble import RandomForestClassifier\n",
        "from sklearn.svm import LinearSVC\n",
        "from sklearn.model_selection import cross_val_score\n",
        "import matplotlib.pyplot as plt\n",
        "from sklearn.model_selection import cross_validate\n",
        "clf = LogisticRegression()\n",
        "clf.fit(X_train_new, y_train_new)\n",
        "y_pred = clf.predict(X_test_tf)\n",
        "print(metrics.classification_report(y_test, y_pred))\n",
        "print(metrics.f1_score(y_test, y_pred, average='weighted'))\n",
        "# models = [\n",
        "# #     RandomForestClassifier(n_estimators=50, max_depth=3, random_state=0),\n",
        "# #     LinearSVC(),\n",
        "#     # MultinomialNB()]\n",
        "#     LogisticRegression(random_state=0)]\n",
        "\n",
        "# CV = 5\n",
        "# cv_df = pd.DataFrame(index=range(CV * len(models)))\n",
        "# entries = []\n",
        "# for model in models:\n",
        "#     model_name = model.__class__.__name__\n",
        "#     accuracies = cross_val_score(model, X_train_new, y_train_new, scoring='f1_macro', cv=CV)\n",
        "#     for fold_idx, accuracy in enumerate(accuracies):  \n",
        "#         entries.append((model_name, fold_idx, accuracy))      \n",
        "# cv_df = pd.DataFrame(entries, columns=['model_name', 'fold_idx', 'f1_macro'])\n",
        "# import seaborn as sns\n",
        "# sns.boxplot(x='model_name', y='f1_macro', data=cv_df)\n",
        "# sns.stripplot(x='model_name', y='f1_macro', data=cv_df, \n",
        "#               size=8, jitter=True, edgecolor=\"gray\", linewidth=2)\n",
        "# plt.show()"
      ],
      "execution_count": 25,
      "outputs": [
        {
          "output_type": "stream",
          "text": [
            "              precision    recall  f1-score   support\n",
            "\n",
            "           0       0.97      0.89      0.93    266373\n",
            "           1       0.78      0.61      0.69     11293\n",
            "           2       0.90      0.88      0.89      4761\n",
            "           3       0.69      0.62      0.65      5097\n",
            "           4       0.36      0.55      0.43      2224\n",
            "           5       0.40      0.47      0.43      6043\n",
            "           6       0.20      0.46      0.28      5035\n",
            "           7       0.70      0.67      0.69      6100\n",
            "           8       0.02      0.36      0.04       121\n",
            "           9       0.01      0.19      0.01        89\n",
            "          10       0.66      0.66      0.66      5175\n",
            "          11       0.04      0.66      0.08        59\n",
            "          12       0.15      0.43      0.22      1959\n",
            "          13       0.09      0.58      0.15        60\n",
            "          14       0.03      0.62      0.05        93\n",
            "          15       0.01      0.47      0.02        76\n",
            "          16       0.02      0.60      0.04        15\n",
            "\n",
            "    accuracy                           0.85    314573\n",
            "   macro avg       0.35      0.57      0.37    314573\n",
            "weighted avg       0.91      0.85      0.88    314573\n",
            "\n",
            "0.8766708827049892\n"
          ],
          "name": "stdout"
        }
      ]
    },
    {
      "cell_type": "code",
      "metadata": {
        "id": "izXX9kjae_uC",
        "colab": {
          "base_uri": "https://localhost:8080/"
        },
        "outputId": "c967967b-c7a8-4419-f18b-7e82f5395196"
      },
      "source": [
        "cv_df.groupby('model_name').f1_macro.mean()"
      ],
      "execution_count": 13,
      "outputs": [
        {
          "output_type": "execute_result",
          "data": {
            "text/plain": [
              "model_name\n",
              "LogisticRegression    0.794465\n",
              "Name: f1_macro, dtype: float64"
            ]
          },
          "metadata": {},
          "execution_count": 13
        }
      ]
    },
    {
      "cell_type": "code",
      "metadata": {
        "id": "44uuUZH8e_uC"
      },
      "source": [
        ""
      ],
      "execution_count": null,
      "outputs": []
    },
    {
      "cell_type": "markdown",
      "metadata": {
        "id": "44ktFuRmsoAw"
      },
      "source": [
        "## RandomForrest"
      ]
    },
    {
      "cell_type": "code",
      "metadata": {
        "id": "i12Q6Vple_uC"
      },
      "source": [
        "from sklearn.ensemble import RandomForestClassifier\n",
        "from sklearn.linear_model import LogisticRegression\n",
        "# classifier=MultinomialNB()\n",
        "# RFC = RandomForestClassifier(class_weight=\"balanced\")\n",
        "classifier =  RandomForestClassifier()\n",
        "# classifier = LogisticRegression(class_weight='balanced')\n",
        "classifier.fit(X_train_new, y_train_new)\n",
        "y_pred = classifier.predict(X_test_tf)"
      ],
      "execution_count": 19,
      "outputs": []
    },
    {
      "cell_type": "code",
      "metadata": {
        "id": "K-g9vafze_uD",
        "colab": {
          "base_uri": "https://localhost:8080/"
        },
        "outputId": "8c8ffb72-7f96-4663-bf3c-01c74c91d412"
      },
      "source": [
        "from sklearn import metrics\n",
        "print(metrics.f1_score(y_test, y_pred, average= \"weighted\"))"
      ],
      "execution_count": 20,
      "outputs": [
        {
          "output_type": "stream",
          "text": [
            "0.882197273757114\n"
          ],
          "name": "stdout"
        }
      ]
    },
    {
      "cell_type": "code",
      "metadata": {
        "id": "mlKYLqQFs--i"
      },
      "source": [
        ""
      ],
      "execution_count": null,
      "outputs": []
    },
    {
      "cell_type": "markdown",
      "metadata": {
        "id": "9cByn56DEIUe"
      },
      "source": [
        "## gradientBoostingClassifier"
      ]
    },
    {
      "cell_type": "code",
      "metadata": {
        "id": "4JUeif9ds_A0"
      },
      "source": [
        "from sklearn.ensemble import GradientBoostingClassifier\n",
        "model = GradientBoostingClassifier()\n",
        "model.fit(X_train_tf, y_train)\n",
        "y_pred = model.predict(X_test_tf)"
      ],
      "execution_count": 16,
      "outputs": []
    },
    {
      "cell_type": "code",
      "metadata": {
        "id": "wonCpt_ps_DD"
      },
      "source": [
        "false_positive_rate, true_positive_rate, thresholds = roc_curve(y_test, y_pred)\n",
        "roc_auc = auc(false_positive_rate, true_positive_rate)\n",
        "roc_auc"
      ],
      "execution_count": null,
      "outputs": []
    },
    {
      "cell_type": "code",
      "metadata": {
        "id": "ynDotyzNs_Fi"
      },
      "source": [
        "f1_score = metrics.f1_score(y_test, y_pred)\n",
        "f1_score"
      ],
      "execution_count": null,
      "outputs": []
    },
    {
      "cell_type": "code",
      "metadata": {
        "id": "LSRpx07is_IX"
      },
      "source": [
        "learning_rates = [1, 0.5, 0.25, 0.1, 0.05, 0.01]train_results = []\n",
        "test_results = []\n",
        "for eta in learning_rates:\n",
        "   model = GradientBoostingClassifier(learning_rate=eta)\n",
        "   model.fit(x_train, y_train)   \n",
        "   train_pred = model.predict(x_train)   \n",
        "   false_positive_rate, true_positive_rate, thresholds = roc_curve(y_train, train_pred)\n",
        "   roc_auc = auc(false_positive_rate, true_positive_rate)\n",
        "   train_results.append(roc_auc)   \n",
        "   y_pred = model.predict(x_test)   \n",
        "   false_positive_rate, true_positive_rate, thresholds = roc_curve(y_test, y_pred)\n",
        "   roc_auc = auc(false_positive_rate, true_positive_rate)\n",
        "   test_results.append(roc_auc)"
      ],
      "execution_count": null,
      "outputs": []
    },
    {
      "cell_type": "code",
      "metadata": {
        "id": "JnsxFtpxs_K2"
      },
      "source": [
        "n_estimators = [1, 2, 4, 8, 16, 32, 64, 100, 200]\n",
        "train_results = []\n",
        "test_results = []\n",
        "for estimator in n_estimators:\n",
        "   model = GradientBoostingClassifier(n_estimators=estimator)\n",
        "   model.fit(x_train, y_train)   \n",
        "   train_pred = model.predict(x_train)   \n",
        "   false_positive_rate, true_positive_rate, thresholds = roc_curve(y_train, train_pred)\n",
        "   roc_auc = auc(false_positive_rate, true_positive_rate)\n",
        "   train_results.append(roc_auc)   \n",
        "   y_pred = model.predict(x_test)   \n",
        "   false_positive_rate, true_positive_rate, thresholds = roc_curve(y_test, y_pred)\n",
        "   roc_auc = auc(false_positive_rate, true_positive_rate)\n",
        "   test_results.append(roc_auc)\n",
        "from matplotlib.legend_handler import HandlerLine2D\n",
        "line1, = plt.plot(n_estimators, train_results, ‘b’, label=”Train AUC”)\n",
        "line2, = plt.plot(n_estimators, test_results, ‘r’, label=”Test AUC”)plt.legend(handler_map={line1: HandlerLine2D(numpoints=2)})plt.ylabel(‘AUC score’)\n",
        "plt.xlabel(‘n_estimators’)\n",
        "plt.show()"
      ],
      "execution_count": null,
      "outputs": []
    },
    {
      "cell_type": "code",
      "metadata": {
        "id": "Jc6mpiass_NG"
      },
      "source": [
        "max_depths = np.linspace(1, 32, 32, endpoint=True)\n",
        "train_results = []\n",
        "test_results = []\n",
        "for max_depth in max_depths:\n",
        "   model = GradientBoostingClassifier(max_depth=max_depth)\n",
        "   model.fit(x_train, y_train)   \n",
        "   train_pred = model.predict(x_train)   \n",
        "   false_positive_rate, true_positive_rate, thresholds = roc_curve(y_train, train_pred)\n",
        "   roc_auc = auc(false_positive_rate, true_positive_rate)\n",
        "   train_results.append(roc_auc)   \n",
        "   y_pred = model.predict(x_test)   \n",
        "   false_positive_rate, true_positive_rate, thresholds = roc_curve(y_test, y_pred)\n",
        "   roc_auc = auc(false_positive_rate, true_positive_rate)\n",
        "   test_results.append(roc_auc)\n",
        "from matplotlib.legend_handler import HandlerLine2D\n",
        "line1, = plt.plot(max_depths, train_results, ‘b’, label=”Train AUC”)\n",
        "line2, = plt.plot(max_depths, test_results, ‘r’, label=”Test AUC”)\n",
        "plt.legend(handler_map={line1: HandlerLine2D(numpoints=2)})plt.ylabel(‘AUC score’)\n",
        "plt.xlabel(‘Tree depth’)\n",
        "plt.show()"
      ],
      "execution_count": null,
      "outputs": []
    },
    {
      "cell_type": "code",
      "metadata": {
        "id": "mEmjLpSJs_Pu"
      },
      "source": [
        "min_samples_splits = np.linspace(0.1, 1.0, 10, endpoint=True)\n",
        "train_results = []\n",
        "test_results = []\n",
        "for min_samples_split in min_samples_splits:\n",
        "   model = GradientBoostingClassifier(min_samples_split=min_samples_split)\n",
        "   model.fit(x_train, y_train)   \n",
        "   train_pred = model.predict(x_train)   \n",
        "   false_positive_rate, true_positive_rate, thresholds = roc_curve(y_train, train_pred)\n",
        "   roc_auc = auc(false_positive_rate, true_positive_rate)\n",
        "   train_results.append(roc_auc)   \n",
        "   y_pred = model.predict(x_test)   \n",
        "   false_positive_rate, true_positive_rate, thresholds = roc_curve(y_test, y_pred)\n",
        "   roc_auc = auc(false_positive_rate, true_positive_rate)\n",
        "   test_results.append(roc_auc)\n",
        "from matplotlib.legend_handler import HandlerLine2D\n",
        "line1, = plt.plot(min_samples_splits, train_results, ‘b’, label=”Train AUC”)\n",
        "line2, = plt.plot(min_samples_splits, test_results, ‘r’, label=”Test AUC”)\n",
        "plt.legend(handler_map={line1: HandlerLine2D(numpoints=2)})plt.ylabel(‘AUC score’)\n",
        "plt.xlabel(‘min samples split’)\n",
        "plt.show()"
      ],
      "execution_count": null,
      "outputs": []
    },
    {
      "cell_type": "code",
      "metadata": {
        "id": "Wd-yRQ5vs_SH"
      },
      "source": [
        "max_features = list(range(1,train.shape[1]))\n",
        "train_results = []\n",
        "test_results = []\n",
        "for max_feature in max_features:\n",
        "   model = GradientBoostingClassifier(max_features=max_feature)\n",
        "   model.fit(x_train, y_train)   \n",
        "   train_pred = model.predict(x_train)   \n",
        "   false_positive_rate, true_positive_rate, thresholds = roc_curve(y_train, train_pred)\n",
        "   roc_auc = auc(false_positive_rate, true_positive_rate)\n",
        "   train_results.append(roc_auc)   \n",
        "   y_pred = model.predict(x_test)   \n",
        "   false_positive_rate, true_positive_rate, thresholds = roc_curve(y_test, y_pred)\n",
        "   roc_auc = auc(false_positive_rate, true_positive_rate)\n",
        "   test_results.append(roc_auc)\n",
        "from matplotlib.legend_handler import HandlerLine2D\n",
        "line1, = plt.plot(max_features, train_results, ‘b’, label=”Train AUC”)\n",
        "line2, = plt.plot(max_features, test_results, ‘r’, label=”Test AUC”)\n",
        "plt.legend(handler_map={line1: HandlerLine2D(numpoints=2)})plt.ylabel(‘AUC score’)\n",
        "plt.xlabel(‘max features’)\n",
        "plt.show()"
      ],
      "execution_count": null,
      "outputs": []
    },
    {
      "cell_type": "code",
      "metadata": {
        "id": "JjwlxkOvs_UY"
      },
      "source": [
        ""
      ],
      "execution_count": null,
      "outputs": []
    },
    {
      "cell_type": "code",
      "metadata": {
        "id": "aC8xv01hs_XP"
      },
      "source": [
        ""
      ],
      "execution_count": null,
      "outputs": []
    },
    {
      "cell_type": "code",
      "metadata": {
        "id": "wj_XXAyje_uF"
      },
      "source": [
        "# to add more features into our dataframe like : POS , lemma, ...\n",
        "import spacy\n",
        "nlp = spacy.load('en_core_web_sm')\n",
        "tokens = []\n",
        "lemma = []\n",
        "pos = []\n",
        "ds = ds[:10]\n",
        "for doc in nlp.pipe(ds['Word'].astype(\"unicode\").values, batch_size=50,\n",
        "                        n_threads=3):\n",
        "    if doc.is_parsed:\n",
        "        tokens.append([n.text.lower() for n in doc])\n",
        "        lemma.append([n.lemma_.lower() for n in doc])\n",
        "        pos.append([n.pos_ for n in doc])\n",
        "    else:\n",
        "        # We want to make sure that the lists of parsed results have the\n",
        "        # same number of entries of the original Dataframe, so add some blanks in case the parse fails\n",
        "        tokens.append(None)\n",
        "        lemma.append(None)\n",
        "        pos.append(None)\n",
        "\n",
        "ds['species_tokens'] = tokens\n",
        "ds['species_lemma'] = lemma\n",
        "ds['species_pos'] = pos\n",
        "# print(ds.head())\n",
        "print(tokens, lemma, pos)"
      ],
      "execution_count": null,
      "outputs": []
    },
    {
      "cell_type": "code",
      "metadata": {
        "id": "2e_NwYyOe_uF"
      },
      "source": [
        ""
      ],
      "execution_count": null,
      "outputs": []
    },
    {
      "cell_type": "code",
      "metadata": {
        "id": "XuuGX0Cee_uF"
      },
      "source": [
        "ds = ds[:100000]"
      ],
      "execution_count": null,
      "outputs": []
    },
    {
      "cell_type": "code",
      "metadata": {
        "id": "JTsISMbte_uF"
      },
      "source": [
        "X = ds.drop(['Tag', 'POS'], axis=1)"
      ],
      "execution_count": null,
      "outputs": []
    },
    {
      "cell_type": "code",
      "metadata": {
        "id": "gipGIzwce_uG"
      },
      "source": [
        "# dictvectorizer : transforms lists of feature-value mappings to vectors\n",
        "v = DictVectorizer(sparse=False)\n",
        "X= v.fit_transform(X.to_dict('records'))\n",
        "# also X.invverse_transform return back the list to the featue-value (dict-like)"
      ],
      "execution_count": null,
      "outputs": []
    },
    {
      "cell_type": "code",
      "metadata": {
        "id": "iVs8HYj_e_uG"
      },
      "source": [
        "y = ds.Tag.values"
      ],
      "execution_count": null,
      "outputs": []
    },
    {
      "cell_type": "code",
      "metadata": {
        "id": "ktgsvwjje_uG"
      },
      "source": [
        "classes = np.unique(y)\n",
        "classes = classes.tolist()"
      ],
      "execution_count": null,
      "outputs": []
    },
    {
      "cell_type": "code",
      "metadata": {
        "id": "cjijFgzBe_uG"
      },
      "source": [
        "X.shape, y.shape"
      ],
      "execution_count": null,
      "outputs": []
    },
    {
      "cell_type": "code",
      "metadata": {
        "id": "TEjKso69e_uG"
      },
      "source": [
        "X_train, X_test, y_train, y_test = train_test_split(X, y, test_size = 0.33, random_state=0)"
      ],
      "execution_count": null,
      "outputs": []
    },
    {
      "cell_type": "code",
      "metadata": {
        "id": "KwDLxsTFe_uH"
      },
      "source": [
        "X_train.shape, X_test.shape, y_train.shape"
      ],
      "execution_count": null,
      "outputs": []
    },
    {
      "cell_type": "code",
      "metadata": {
        "id": "kiqr2K5Ce_uH"
      },
      "source": [
        "new_classes = classes.copy()\n",
        "new_classes.pop() # to remove the 'O' tag from the classes!"
      ],
      "execution_count": null,
      "outputs": []
    },
    {
      "cell_type": "code",
      "metadata": {
        "id": "VmRRHN4ee_uH"
      },
      "source": [
        "# test \n",
        "a = ds.Tag\n",
        "from sklearn.preprocessing import LabelEncoder, OneHotEncoder\n",
        "labelencoder_x = LabelEncoder()\n",
        "a_lab = labelencoder_x.fit_transform(a)\n",
        "# a_lab[:40]\n",
        "# Transform into a Matrix\n",
        "onehotencoder1 = OneHotEncoder()\n",
        "b = onehotencoder1.fit_transform(a_lab.reshape(-1,1)).toarray()\n",
        "# b[:10]"
      ],
      "execution_count": null,
      "outputs": []
    },
    {
      "cell_type": "code",
      "metadata": {
        "id": "07knD9pFe_uI"
      },
      "source": [
        "sgd = SGDClassifier()\n",
        "sgd.partial_fit(X_train, y_train, classes)"
      ],
      "execution_count": null,
      "outputs": []
    },
    {
      "cell_type": "code",
      "metadata": {
        "id": "-nDwbD8ie_uI"
      },
      "source": [
        "y_pred = sgd.predict(X_test)\n",
        "print(classification_report(y_pred, y_test,new_classes))"
      ],
      "execution_count": null,
      "outputs": []
    }
  ]
}