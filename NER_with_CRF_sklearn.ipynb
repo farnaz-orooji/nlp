{
  "nbformat": 4,
  "nbformat_minor": 0,
  "metadata": {
    "colab": {
      "name": "NER_with_CRF_sklearn.ipynb",
      "provenance": [],
      "authorship_tag": "ABX9TyNtjdsopa3E0Q67BxGgSfWE",
      "include_colab_link": true
    },
    "kernelspec": {
      "name": "python3",
      "display_name": "Python 3"
    },
    "language_info": {
      "name": "python"
    }
  },
  "cells": [
    {
      "cell_type": "markdown",
      "metadata": {
        "id": "view-in-github",
        "colab_type": "text"
      },
      "source": [
        "<a href=\"https://colab.research.google.com/github/farnaz-orooji/nlp/blob/main/NER_with_CRF_sklearn.ipynb\" target=\"_parent\"><img src=\"https://colab.research.google.com/assets/colab-badge.svg\" alt=\"Open In Colab\"/></a>"
      ]
    },
    {
      "cell_type": "code",
      "metadata": {
        "id": "UQPRX8cApknM"
      },
      "source": [
        "from google.colab import drive\n",
        "drive.mount('/content/drive')"
      ],
      "execution_count": null,
      "outputs": []
    },
    {
      "cell_type": "code",
      "metadata": {
        "id": "VyIiIX4qpttz"
      },
      "source": [
        "import pandas as pd\n",
        "import numpy as np\n",
        "from sklearn.model_selection import train_test_split\n",
        "import sklearn_crfsuite\n",
        "from sklearn_crfsuite import scorers\n",
        "from sklearn_crfsuite import metrics\n",
        "from collections import Counter\n",
        "from sklearn.metrics import classification_report"
      ],
      "execution_count": null,
      "outputs": []
    },
    {
      "cell_type": "code",
      "metadata": {
        "id": "kaWPKOm7ptwd"
      },
      "source": [
        "%%time\n",
        "ds = pd.read_csv(\"//content/drive/MyDrive/nlp_dataset/ner_dataset.csv\", encoding = 'ISO-8859-1')\n",
        "ds = ds.fillna(method='ffill')"
      ],
      "execution_count": null,
      "outputs": []
    },
    {
      "cell_type": "code",
      "metadata": {
        "id": "jbfn9H0wpty0"
      },
      "source": [
        "# this class is to retrieve sentenses with their POS and tags:\n",
        "class SentenceGetter(object):\n",
        "    \n",
        "    def __init__(self, data):\n",
        "        \n",
        "        self.n_sent = 1\n",
        "        self.data = data\n",
        "        self.empttyt = False\n",
        "        agg_func = lambda s : [(w,p,t) for w,p,t in \n",
        "                              zip(s[\"Word\"].values.tolist(),\n",
        "                                 s[\"POS\"].values.tolist(),\n",
        "                                 s[\"Tag\"].values.tolist())\n",
        "                              ]\n",
        "        self.grouped = self.data.groupby('Sentence #').apply(agg_func)\n",
        "        self.sentences = [s for s in self.grouped]\n",
        "    \n",
        "    def get_next(self):\n",
        "        \n",
        "        try:\n",
        "            print(\"**\")\n",
        "            s = self.grouped['Sentenc: {}'.format(self.n_sent)]\n",
        "            self.n_sent += 1\n",
        "            return s\n",
        "        \n",
        "        except:\n",
        "            \n",
        "            return None\n",
        "        \n",
        "getter = SentenceGetter(ds)\n",
        "sentences = getter.sentences"
      ],
      "execution_count": null,
      "outputs": []
    },
    {
      "cell_type": "code",
      "metadata": {
        "id": "gk8Xrchkpt1D"
      },
      "source": [
        "def word2features(sent, i):\n",
        "    word = sent[i][0]\n",
        "    postag = sent[i][1]\n",
        "    features = {\n",
        "        'bias': 1.0, \n",
        "        'word.lower()': word.lower(), \n",
        "#         'word[-5:]': word[-5:],\n",
        "#         'word[-4:]': word[-4:],\n",
        "        'word[-3:]': word[-3:],\n",
        "        'word[-2:]': word[-2:],\n",
        "        'word.isupper()': word.isupper(),\n",
        "        'word.istitle()': word.istitle(),\n",
        "        'word.isdigit()': word.isdigit(),\n",
        "        'postag': postag,\n",
        "#         'postag[:2]': postag[:2],\n",
        "#         'postag[:3]': postag[:3],\n",
        "    }\n",
        "    if i > 0:\n",
        "        word1 = sent[i-1][0]\n",
        "        postag1 = sent[i-1][1]\n",
        "        features.update({\n",
        "            '-1:word.lower()': word1.lower(),\n",
        "            '-1:word.istitle()': word1.istitle(),\n",
        "            '-1:word.isupper()': word1.isupper(),\n",
        "            '-1:postag': postag1,\n",
        "            '-1:postag[:2]': postag1[:2],\n",
        "        })\n",
        "    else:\n",
        "        features['BOS'] = True\n",
        "    if i < len(sent)-1:\n",
        "        word1 = sent[i+1][0]\n",
        "        postag1 = sent[i+1][1]\n",
        "        features.update({\n",
        "            '+1:word.lower()': word1.lower(),\n",
        "            '+1:word.istitle()': word1.istitle(),\n",
        "            '+1:word.isupper()': word1.isupper(),\n",
        "            '+1:postag': postag1,\n",
        "            '+1:postag[:2]': postag1[:2],\n",
        "        })\n",
        "    else:\n",
        "        features['EOS'] = True\n",
        "    return features"
      ],
      "execution_count": null,
      "outputs": []
    },
    {
      "cell_type": "code",
      "metadata": {
        "id": "BjGG9G7fpt3j"
      },
      "source": [
        "def sent2features(sent):\n",
        "\n",
        "    return [word2features(sent, i) for i in range(len(sent))]\n",
        "\n",
        "def sent2labels(sent):\n",
        "\n",
        "    return [label for token, postag, label in sent]\n",
        "\n",
        "def sent2tokens(sent):\n",
        "\n",
        "    return [token for token, postag, label in sent]"
      ],
      "execution_count": null,
      "outputs": []
    },
    {
      "cell_type": "code",
      "metadata": {
        "id": "dfNdG2XXpt6G"
      },
      "source": [
        "X = [sent2features(s) for s in sentences]"
      ],
      "execution_count": null,
      "outputs": []
    },
    {
      "cell_type": "code",
      "metadata": {
        "id": "HWdU0zySpt8d"
      },
      "source": [
        "y =[sent2labels(s) for s in sentences]"
      ],
      "execution_count": null,
      "outputs": []
    },
    {
      "cell_type": "code",
      "metadata": {
        "id": "yQeZrItMpuBp"
      },
      "source": [
        "X_train, X_test, y_train, y_test = train_test_split(X, y, \n",
        "                                                   test_size = 0.3, \n",
        "                                                   random_state = 0\n",
        "                                                   )"
      ],
      "execution_count": null,
      "outputs": []
    },
    {
      "cell_type": "code",
      "metadata": {
        "id": "mxg3O75xpuEY"
      },
      "source": [
        "crf = sklearn_crfsuite.CRF(\n",
        "    algorithm='lbfgs',\n",
        "    c1 = 0.1,\n",
        "    c2 = 0.1,\n",
        "    max_iterations= 50,\n",
        "    all_possible_transitions= True,\n",
        "    verbose=1\n",
        ")\n",
        "crf.fit(X_train, y_train)"
      ],
      "execution_count": null,
      "outputs": []
    },
    {
      "cell_type": "code",
      "metadata": {
        "id": "vFjN4ut_puJQ"
      },
      "source": [
        "# evaluation \n",
        "y_pred = crf.predict(X_test)"
      ],
      "execution_count": null,
      "outputs": []
    },
    {
      "cell_type": "code",
      "metadata": {
        "id": "PXhS0xrjpuLy"
      },
      "source": [
        "print(metrics.flat_classification_report(y_test, y_pred, new_classes))"
      ],
      "execution_count": null,
      "outputs": []
    },
    {
      "cell_type": "code",
      "metadata": {
        "id": "8o_hF5Yrq7ek"
      },
      "source": [
        "# what classifier learned : \n",
        "def print_transitions(trans_features):\n",
        "    for (label_from, label_to), weight in trans_features :\n",
        "        print(\"%-6s -> %-7s %0.6f\" % (label_from, label_to, weight))"
      ],
      "execution_count": null,
      "outputs": []
    },
    {
      "cell_type": "code",
      "metadata": {
        "id": "qEr2Kd0xq7g8"
      },
      "source": [
        "print(\"Top likely features : \")\n",
        "print_transitions(Counter(crf.transition_features_).most_common(10))"
      ],
      "execution_count": null,
      "outputs": []
    },
    {
      "cell_type": "code",
      "metadata": {
        "id": "rhaNu9lHrEhc"
      },
      "source": [
        "print(\"\\n Top unlikely features : \")\n",
        "print_transitions(Counter(crf.transition_features_).most_common()[-10:])"
      ],
      "execution_count": null,
      "outputs": []
    },
    {
      "cell_type": "code",
      "metadata": {
        "id": "PnTOWvjgrEjV"
      },
      "source": [
        "import eli5\n",
        "\n",
        "eli5.show_weights(crf, top= 10)"
      ],
      "execution_count": null,
      "outputs": []
    },
    {
      "cell_type": "code",
      "metadata": {
        "id": "iEf-EAF7rElo"
      },
      "source": [
        "eli5.show_weights(crf, top=10, targets=['O', 'B-org', 'I-per'])"
      ],
      "execution_count": null,
      "outputs": []
    },
    {
      "cell_type": "code",
      "metadata": {
        "id": "jeAOwcVjq7jg"
      },
      "source": [
        "eli5.show_weights(crf, top=10, feature_re='^word\\.is',\n",
        "                  horizontal_layout=False, show=['targets'])"
      ],
      "execution_count": null,
      "outputs": []
    },
    {
      "cell_type": "code",
      "metadata": {
        "id": "cn9JqDkoq7l-"
      },
      "source": [
        ""
      ],
      "execution_count": null,
      "outputs": []
    }
  ]
}